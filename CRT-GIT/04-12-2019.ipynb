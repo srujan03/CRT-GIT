{
 "cells": [
  {
   "cell_type": "markdown",
   "metadata": {},
   "source": [
    "# "
   ]
  },
  {
   "cell_type": "code",
   "execution_count": 7,
   "metadata": {},
   "outputs": [
    {
     "name": "stdout",
     "output_type": "stream",
     "text": [
      "Enter a number1233\n",
      "3 3 2 1 "
     ]
    }
   ],
   "source": [
    "# while loop\n",
    "\n",
    "n= int(input('Enter a number'))\n",
    "while n>0:\n",
    "    r=n%10\n",
    "    print(r,end = ' ')\n",
    "    n=n//10"
   ]
  },
  {
   "cell_type": "markdown",
   "metadata": {},
   "source": [
    "# Functions in Programming\n",
    "- Programs will be divided into sub parts\n",
    "- it makes the re-use of the code\n",
    "- Functions makes programming very easy\n",
    "- def is the keyword which is used to Define the Function\n",
    "- Functions name follows the camel case always\n",
    "  - Fun() isPalindrome() isPalindromeCheck()\n",
    "- Definition of the function can be anything for the given requirements\n"
   ]
  },
  {
   "cell_type": "code",
   "execution_count": 24,
   "metadata": {},
   "outputs": [
    {
     "name": "stdout",
     "output_type": "stream",
     "text": [
      "Enter a Number  18\n"
     ]
    },
    {
     "data": {
      "text/plain": [
       "8"
      ]
     },
     "execution_count": 24,
     "metadata": {},
     "output_type": "execute_result"
    }
   ],
   "source": [
    "# Read the niput as a number \n",
    "# Print the output as the second largest number\n",
    "def largeDigit(n):\n",
    "    x=0\n",
    "    while n>0:\n",
    "        y=n%10\n",
    "        if x<y:\n",
    "            x=y\n",
    "        n=n//10\n",
    "    return x\n",
    "largeDigit(int(input('Enter a Number  ')))\n"
   ]
  },
  {
   "cell_type": "code",
   "execution_count": 28,
   "metadata": {},
   "outputs": [
    {
     "name": "stdout",
     "output_type": "stream",
     "text": [
      "Enter a Number145\n"
     ]
    },
    {
     "data": {
      "text/plain": [
       "10"
      ]
     },
     "execution_count": 28,
     "metadata": {},
     "output_type": "execute_result"
    }
   ],
   "source": [
    "def sumOfDigitsOfGivenNumber(n):\n",
    "    sum=0\n",
    "    while n>0:\n",
    "        r=n%10\n",
    "        sum+=r\n",
    "        n=n//10\n",
    "    return sum\n",
    "sumOfDigitsOfGivenNumber(int(input('Enter a Number')))"
   ]
  },
  {
   "cell_type": "code",
   "execution_count": 34,
   "metadata": {},
   "outputs": [
    {
     "name": "stdout",
     "output_type": "stream",
     "text": [
      "Enter a Number to check for a Palindrome1221\n",
      "1221\n"
     ]
    },
    {
     "data": {
      "text/plain": [
       "'The Number is Palindrome'"
      ]
     },
     "execution_count": 34,
     "metadata": {},
     "output_type": "execute_result"
    }
   ],
   "source": [
    "def isPalindrome(n):\n",
    "    real=n\n",
    "    num = 0\n",
    "    while real>0:\n",
    "        r=real%10\n",
    "        num = num*10+r\n",
    "        real=real//10\n",
    "    print(num)\n",
    "    if num==n:\n",
    "        return 'The Number is Palindrome'\n",
    "    else:\n",
    "        return 'The number is Not a Palindrome'\n",
    "    return\n",
    "isPalindrome(int(input('Enter a Number to check for a Palindrome')))"
   ]
  },
  {
   "cell_type": "code",
   "execution_count": 39,
   "metadata": {},
   "outputs": [
    {
     "name": "stdout",
     "output_type": "stream",
     "text": [
      "Enter a Long Number53654\n"
     ]
    },
    {
     "data": {
      "text/plain": [
       "6"
      ]
     },
     "execution_count": 39,
     "metadata": {},
     "output_type": "execute_result"
    }
   ],
   "source": [
    "def biggestFromLastThreeDigits(n):\n",
    "    i=1\n",
    "    big=0\n",
    "    while i!=4:\n",
    "        r=n%10\n",
    "        if big<r:\n",
    "            big = r\n",
    "        n=n//10\n",
    "        i+=1\n",
    "    return big\n",
    "biggestFromLastThreeDigits(int(input('Enter a Long Number')))"
   ]
  },
  {
   "cell_type": "markdown",
   "metadata": {},
   "source": [
    "# Data Structures in Python\n",
    "- Lists\n",
    "- Tuples\n"
   ]
  },
  {
   "cell_type": "code",
   "execution_count": 57,
   "metadata": {},
   "outputs": [
    {
     "name": "stdout",
     "output_type": "stream",
     "text": [
      "0 1 2 3 4 5 6 7 8 9 "
     ]
    }
   ],
   "source": [
    "for i in range(10):\n",
    "    print(i,end = ' ')"
   ]
  },
  {
   "cell_type": "code",
   "execution_count": 58,
   "metadata": {},
   "outputs": [
    {
     "name": "stdout",
     "output_type": "stream",
     "text": [
      "2 3 4 5 6 7 8 9 "
     ]
    }
   ],
   "source": [
    "for i in range(2,10):\n",
    "    print(i,end = ' ')"
   ]
  },
  {
   "cell_type": "code",
   "execution_count": 59,
   "metadata": {},
   "outputs": [
    {
     "name": "stdout",
     "output_type": "stream",
     "text": [
      "0 2 4 6 8 "
     ]
    }
   ],
   "source": [
    "for i in range(0,10,2):\n",
    "    print(i,end = ' ')"
   ]
  },
  {
   "cell_type": "code",
   "execution_count": null,
   "metadata": {},
   "outputs": [],
   "source": []
  },
  {
   "cell_type": "code",
   "execution_count": null,
   "metadata": {},
   "outputs": [],
   "source": []
  }
 ],
 "metadata": {
  "kernelspec": {
   "display_name": "Python 3",
   "language": "python",
   "name": "python3"
  },
  "language_info": {
   "codemirror_mode": {
    "name": "ipython",
    "version": 3
   },
   "file_extension": ".py",
   "mimetype": "text/x-python",
   "name": "python",
   "nbconvert_exporter": "python",
   "pygments_lexer": "ipython3",
   "version": "3.7.1"
  }
 },
 "nbformat": 4,
 "nbformat_minor": 2
}
