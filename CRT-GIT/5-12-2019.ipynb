{
 "cells": [
  {
   "cell_type": "markdown",
   "metadata": {},
   "source": [
    "# Lists and Lists related Examples\n"
   ]
  },
  {
   "cell_type": "code",
   "execution_count": 237,
   "metadata": {},
   "outputs": [
    {
     "name": "stdout",
     "output_type": "stream",
     "text": [
      "123  <class 'int'>\n",
      "4  <class 'int'>\n",
      "4  <class 'int'>\n",
      "5  <class 'int'>\n",
      "6  <class 'int'>\n",
      "7  <class 'int'>\n",
      "8  <class 'int'>\n",
      "7  <class 'int'>\n"
     ]
    }
   ],
   "source": [
    "li=[123,4,4,5,6,7,8,7]\n",
    "for i in range(len(li)):\n",
    "    print(li[i],end='  ')\n",
    "    print(type(li[i]))"
   ]
  },
  {
   "cell_type": "code",
   "execution_count": 238,
   "metadata": {},
   "outputs": [
    {
     "name": "stdout",
     "output_type": "stream",
     "text": [
      "[123, 4, 4, 74354, 6, 7, 8, 7]\n"
     ]
    }
   ],
   "source": [
    "li[3]=74354\n",
    "print(li)"
   ]
  },
  {
   "cell_type": "code",
   "execution_count": 239,
   "metadata": {},
   "outputs": [
    {
     "name": "stdout",
     "output_type": "stream",
     "text": [
      "[123, 4, 4, 6, 7, 8, 7]\n"
     ]
    }
   ],
   "source": [
    "del li[3]\n",
    "print(li)"
   ]
  },
  {
   "cell_type": "code",
   "execution_count": 240,
   "metadata": {},
   "outputs": [
    {
     "name": "stdout",
     "output_type": "stream",
     "text": [
      "7\n"
     ]
    }
   ],
   "source": [
    "print(len(li))"
   ]
  },
  {
   "cell_type": "markdown",
   "metadata": {},
   "source": [
    "# Methods of Lists"
   ]
  },
  {
   "cell_type": "code",
   "execution_count": 241,
   "metadata": {},
   "outputs": [
    {
     "name": "stdout",
     "output_type": "stream",
     "text": [
      "[123, 4, 4, 6, 7, 8, 7]\n",
      "7\n",
      "6\n",
      "[123, 4, 4, 6, 7]\n"
     ]
    }
   ],
   "source": [
    "print(li)\n",
    "print(li[-1])\n",
    "print(li[-4])\n",
    "print(li[0:5])"
   ]
  },
  {
   "cell_type": "code",
   "execution_count": 242,
   "metadata": {},
   "outputs": [
    {
     "name": "stdout",
     "output_type": "stream",
     "text": [
      "159\n",
      "123\n",
      "4\n",
      "22\n",
      "6\n"
     ]
    }
   ],
   "source": [
    "print(sum(li))\n",
    "print(max(li))\n",
    "print(min(li))\n",
    "print(sum(li)//len(li))\n",
    "print(li[len(li)//2])"
   ]
  },
  {
   "cell_type": "code",
   "execution_count": 243,
   "metadata": {},
   "outputs": [
    {
     "name": "stdout",
     "output_type": "stream",
     "text": [
      "9\n"
     ]
    }
   ],
   "source": [
    "l=[1,2,3,4,5]\n",
    "print(sum(l[0:5:2]))"
   ]
  },
  {
   "cell_type": "code",
   "execution_count": 244,
   "metadata": {},
   "outputs": [
    {
     "name": "stdout",
     "output_type": "stream",
     "text": [
      "[1, 2, 3, 4, 5, 6]\n"
     ]
    }
   ],
   "source": [
    "l.append(6)\n",
    "print(l)"
   ]
  },
  {
   "cell_type": "code",
   "execution_count": 245,
   "metadata": {},
   "outputs": [
    {
     "name": "stdout",
     "output_type": "stream",
     "text": [
      "[7, 1, 2, 3, 4, 5, 6]\n"
     ]
    }
   ],
   "source": [
    "l.insert(0,7)\n",
    "\n",
    "print(l)"
   ]
  },
  {
   "cell_type": "code",
   "execution_count": 246,
   "metadata": {},
   "outputs": [
    {
     "name": "stdout",
     "output_type": "stream",
     "text": [
      "[1, 2, 3, 4, 5, 6, 7]\n",
      "4\n"
     ]
    }
   ],
   "source": [
    "l.sort()\n",
    "print(l)\n",
    "print(l.pop(3))"
   ]
  },
  {
   "cell_type": "code",
   "execution_count": 247,
   "metadata": {},
   "outputs": [
    {
     "data": {
      "text/plain": [
       "25"
      ]
     },
     "execution_count": 247,
     "metadata": {},
     "output_type": "execute_result"
    }
   ],
   "source": [
    "def secondLarge(li):\n",
    "    li.sort()\n",
    "    return li[-2]\n",
    "li=[1,9,16,25,2,3,65]\n",
    "secondLarge(li)"
   ]
  },
  {
   "cell_type": "code",
   "execution_count": 248,
   "metadata": {},
   "outputs": [
    {
     "name": "stdout",
     "output_type": "stream",
     "text": [
      "Enter which largest number u wanna find 5\n",
      "[1, 2, 3, 9, 16, 25, 65]\n"
     ]
    },
    {
     "data": {
      "text/plain": [
       "3"
      ]
     },
     "execution_count": 248,
     "metadata": {},
     "output_type": "execute_result"
    }
   ],
   "source": [
    "def genericLarge(li,n):\n",
    "    li.sort()\n",
    "    print(li)\n",
    "    return li[-n]\n",
    "n=int(input('Enter which largest number u wanna find '))\n",
    "genericLarge(li,n)"
   ]
  },
  {
   "cell_type": "code",
   "execution_count": 249,
   "metadata": {},
   "outputs": [
    {
     "name": "stdout",
     "output_type": "stream",
     "text": [
      "Enter which least number u wanna find 47\n",
      "[1, 2, 3, 9, 16, 25, 65]\n",
      "47 the number\n"
     ]
    },
    {
     "ename": "IndexError",
     "evalue": "list index out of range",
     "output_type": "error",
     "traceback": [
      "\u001b[1;31m---------------------------------------------------------------------------\u001b[0m",
      "\u001b[1;31mIndexError\u001b[0m                                Traceback (most recent call last)",
      "\u001b[1;32m<ipython-input-249-9da576b175b6>\u001b[0m in \u001b[0;36m<module>\u001b[1;34m\u001b[0m\n\u001b[0;32m      5\u001b[0m     \u001b[1;32mreturn\u001b[0m \u001b[0mli\u001b[0m\u001b[1;33m[\u001b[0m\u001b[0mn\u001b[0m\u001b[1;33m]\u001b[0m\u001b[1;33m\u001b[0m\u001b[1;33m\u001b[0m\u001b[0m\n\u001b[0;32m      6\u001b[0m \u001b[0mn\u001b[0m\u001b[1;33m=\u001b[0m\u001b[0mint\u001b[0m\u001b[1;33m(\u001b[0m\u001b[0minput\u001b[0m\u001b[1;33m(\u001b[0m\u001b[1;34m'Enter which least number u wanna find '\u001b[0m\u001b[1;33m)\u001b[0m\u001b[1;33m)\u001b[0m\u001b[1;33m\u001b[0m\u001b[1;33m\u001b[0m\u001b[0m\n\u001b[1;32m----> 7\u001b[1;33m \u001b[0mgenericLeast\u001b[0m\u001b[1;33m(\u001b[0m\u001b[0mli\u001b[0m\u001b[1;33m,\u001b[0m\u001b[0mn\u001b[0m\u001b[1;33m)\u001b[0m\u001b[1;33m\u001b[0m\u001b[1;33m\u001b[0m\u001b[0m\n\u001b[0m",
      "\u001b[1;32m<ipython-input-249-9da576b175b6>\u001b[0m in \u001b[0;36mgenericLeast\u001b[1;34m(li, n)\u001b[0m\n\u001b[0;32m      3\u001b[0m     \u001b[0mprint\u001b[0m\u001b[1;33m(\u001b[0m\u001b[0mli\u001b[0m\u001b[1;33m)\u001b[0m\u001b[1;33m\u001b[0m\u001b[1;33m\u001b[0m\u001b[0m\n\u001b[0;32m      4\u001b[0m     \u001b[0mprint\u001b[0m\u001b[1;33m(\u001b[0m\u001b[0mn\u001b[0m\u001b[1;33m,\u001b[0m\u001b[1;34m'the number'\u001b[0m\u001b[1;33m)\u001b[0m\u001b[1;33m\u001b[0m\u001b[1;33m\u001b[0m\u001b[0m\n\u001b[1;32m----> 5\u001b[1;33m     \u001b[1;32mreturn\u001b[0m \u001b[0mli\u001b[0m\u001b[1;33m[\u001b[0m\u001b[0mn\u001b[0m\u001b[1;33m]\u001b[0m\u001b[1;33m\u001b[0m\u001b[1;33m\u001b[0m\u001b[0m\n\u001b[0m\u001b[0;32m      6\u001b[0m \u001b[0mn\u001b[0m\u001b[1;33m=\u001b[0m\u001b[0mint\u001b[0m\u001b[1;33m(\u001b[0m\u001b[0minput\u001b[0m\u001b[1;33m(\u001b[0m\u001b[1;34m'Enter which least number u wanna find '\u001b[0m\u001b[1;33m)\u001b[0m\u001b[1;33m)\u001b[0m\u001b[1;33m\u001b[0m\u001b[1;33m\u001b[0m\u001b[0m\n\u001b[0;32m      7\u001b[0m \u001b[0mgenericLeast\u001b[0m\u001b[1;33m(\u001b[0m\u001b[0mli\u001b[0m\u001b[1;33m,\u001b[0m\u001b[0mn\u001b[0m\u001b[1;33m)\u001b[0m\u001b[1;33m\u001b[0m\u001b[1;33m\u001b[0m\u001b[0m\n",
      "\u001b[1;31mIndexError\u001b[0m: list index out of range"
     ]
    }
   ],
   "source": [
    "def genericLeast(li,n):\n",
    "    li.sort()\n",
    "    print(li)\n",
    "    print(n,'the number')\n",
    "    return li[n]\n",
    "n=int(input('Enter which least number u wanna find '))\n",
    "genericLeast(li,n)"
   ]
  },
  {
   "cell_type": "code",
   "execution_count": null,
   "metadata": {},
   "outputs": [],
   "source": [
    "def numberToList(n):\n",
    "    li=[]\n",
    "    while n>0:\n",
    "        r=n%10\n",
    "        li.append(r)\n",
    "        n//=10\n",
    "    li.reverse()\n",
    "    return \n",
    "numberToList(19563212)\n",
    "li"
   ]
  },
  {
   "cell_type": "markdown",
   "metadata": {},
   "source": [
    "## Tuples\n",
    "- It is very similar to List \n",
    "- list will be enclosed with '[ ]', Tuples are enclosed with '()'\n",
    "- Lists can be increased/decreased but Tuples are fixed\n",
    "- List  --> Mutable \n",
    "- Tupls --> Immutable"
   ]
  },
  {
   "cell_type": "code",
   "execution_count": null,
   "metadata": {},
   "outputs": [],
   "source": [
    "t1=(1,2,223,4,5,6)"
   ]
  },
  {
   "cell_type": "code",
   "execution_count": null,
   "metadata": {},
   "outputs": [],
   "source": [
    "t1[0:4]"
   ]
  },
  {
   "cell_type": "code",
   "execution_count": null,
   "metadata": {},
   "outputs": [],
   "source": [
    "t1[5]=67"
   ]
  },
  {
   "cell_type": "code",
   "execution_count": null,
   "metadata": {},
   "outputs": [],
   "source": [
    "#t1.sort()\n",
    "t1"
   ]
  },
  {
   "cell_type": "markdown",
   "metadata": {},
   "source": [
    "# Dictionaries\n",
    "\n",
    "- This Data Structure is called \n",
    "- Unique Key set is defined\n",
    "- Every Key is seperated by ':'\n",
    "- every Key and Value Pair is seperated by ','\n"
   ]
  },
  {
   "cell_type": "code",
   "execution_count": null,
   "metadata": {},
   "outputs": [],
   "source": [
    "d1 = {\"Name\": \"Srujan\",\"emailid\":\"saisrujan06.siripuram@gmail.com\",\"Mobile\":\"0123456789\"}\n",
    "d1"
   ]
  },
  {
   "cell_type": "code",
   "execution_count": null,
   "metadata": {},
   "outputs": [],
   "source": [
    "d2 = {3: \"Srujan\",\"emailid\":\"saisrujan06.siripuram@gmail.com\",\"Mobile\":\"0123456789\"}\n",
    "d2"
   ]
  },
  {
   "cell_type": "code",
   "execution_count": null,
   "metadata": {
    "scrolled": true
   },
   "outputs": [],
   "source": [
    "d2[3]"
   ]
  },
  {
   "cell_type": "markdown",
   "metadata": {},
   "source": [
    "# Contact App\n",
    "- Concepts Used :- Dict, Tuples and Lists\n",
    "\n",
    "\n",
    "### Modules of the App\n",
    " \n",
    "- Add Contact \n",
    "- Search For a Contact\n",
    "- Import New Contact Details\n",
    "- Update Details\n",
    "- Delete a Contact's Details\n"
   ]
  },
  {
   "cell_type": "code",
   "execution_count": 10,
   "metadata": {},
   "outputs": [
    {
     "name": "stdout",
     "output_type": "stream",
     "text": [
      "Anil 's Contact is added Successfully\n",
      "Ajay 's Contact is added Successfully\n",
      "Unfortunately, Due to Error, Anil 's Contact is not added\n"
     ]
    }
   ],
   "source": [
    "contacts={}\n",
    "def addContact(name,phone):\n",
    "    if name not in contacts:\n",
    "        contacts[name] = phone\n",
    "        print(name,\"'s Contact is added Successfully\")\n",
    "    else:\n",
    "        print('Unfortunately, Due to Error,',name,\"'s Contact is not added\")\n",
    "    return\n",
    "addContact('Anil',648456321)\n",
    "addContact('Ajay',648575321)\n",
    "addContact('Anil',643541321)"
   ]
  },
  {
   "cell_type": "code",
   "execution_count": 11,
   "metadata": {},
   "outputs": [
    {
     "name": "stdout",
     "output_type": "stream",
     "text": [
      "Anil : 648456321\n",
      "Ajay : 648575321\n",
      "No such Contact Exists\n"
     ]
    }
   ],
   "source": [
    "def searchContact(name):\n",
    "    if name in contacts:\n",
    "        print(name , ':',contacts[name])\n",
    "    else:\n",
    "        print('No such Contact Exists')   \n",
    "    return\n",
    "searchContact('Anil')\n",
    "searchContact('Ajay')\n",
    "searchContact('Ashi')"
   ]
  },
  {
   "cell_type": "code",
   "execution_count": 12,
   "metadata": {},
   "outputs": [
    {
     "name": "stdout",
     "output_type": "stream",
     "text": [
      "New Contacts are Added\n"
     ]
    }
   ],
   "source": [
    "def importContact(newContact):\n",
    "    contacts.update(newContact)\n",
    "    print('New Contacts are Added')\n",
    "    return\n",
    "newContact={'Harsha':9351351354,'Dinesh':53243542363}\n",
    "importContact(newContact)"
   ]
  },
  {
   "cell_type": "code",
   "execution_count": 13,
   "metadata": {},
   "outputs": [
    {
     "data": {
      "text/plain": [
       "{'Anil': 648456321,\n",
       " 'Ajay': 648575321,\n",
       " 'Harsha': 9351351354,\n",
       " 'Dinesh': 53243542363}"
      ]
     },
     "execution_count": 13,
     "metadata": {},
     "output_type": "execute_result"
    }
   ],
   "source": [
    "contacts"
   ]
  },
  {
   "cell_type": "code",
   "execution_count": 14,
   "metadata": {},
   "outputs": [
    {
     "name": "stdout",
     "output_type": "stream",
     "text": [
      "Contact Details Updated\n",
      "Contact Doesnt Exist to Update\n"
     ]
    }
   ],
   "source": [
    "def updateDetails(name,phone):\n",
    "    if name in contacts:\n",
    "        contacts[name]=phone\n",
    "        print('Contact Details Updated')\n",
    "    else:\n",
    "        print('Contact Doesnt Exist to Update')\n",
    "    return\n",
    "updateDetails('Anil',99999999999)\n",
    "updateDetails('Neeraj',5555555)"
   ]
  },
  {
   "cell_type": "code",
   "execution_count": 15,
   "metadata": {},
   "outputs": [
    {
     "data": {
      "text/plain": [
       "{'Anil': 99999999999,\n",
       " 'Ajay': 648575321,\n",
       " 'Harsha': 9351351354,\n",
       " 'Dinesh': 53243542363}"
      ]
     },
     "execution_count": 15,
     "metadata": {},
     "output_type": "execute_result"
    }
   ],
   "source": [
    "contacts"
   ]
  },
  {
   "cell_type": "code",
   "execution_count": 16,
   "metadata": {},
   "outputs": [
    {
     "name": "stdout",
     "output_type": "stream",
     "text": [
      "The contact Details are Deleted\n",
      "No such Contact to DELETE\n"
     ]
    }
   ],
   "source": [
    "def deleteContact(name):\n",
    "    if name in contacts:\n",
    "        del contacts[name]\n",
    "        print('The contact Details are Deleted')\n",
    "    else:\n",
    "        print('No such Contact to DELETE')\n",
    "    return\n",
    "deleteContact('Harsha')\n",
    "deleteContact('Neeraj')"
   ]
  },
  {
   "cell_type": "code",
   "execution_count": 9,
   "metadata": {},
   "outputs": [
    {
     "data": {
      "text/plain": [
       "{'Anil': 99999999999, 'Ajay': 648575321, 'Dinesh': 53243542363}"
      ]
     },
     "execution_count": 9,
     "metadata": {},
     "output_type": "execute_result"
    }
   ],
   "source": [
    "contacts"
   ]
  },
  {
   "cell_type": "code",
   "execution_count": 17,
   "metadata": {},
   "outputs": [
    {
     "name": "stdout",
     "output_type": "stream",
     "text": [
      "Enter few Numbers1 2 3 4 5\n"
     ]
    }
   ],
   "source": [
    "a=input('Enter few Numbers')\n"
   ]
  },
  {
   "cell_type": "code",
   "execution_count": 18,
   "metadata": {},
   "outputs": [
    {
     "name": "stdout",
     "output_type": "stream",
     "text": [
      "<class 'str'>\n"
     ]
    }
   ],
   "source": [
    "a\n",
    "print(type(a))"
   ]
  },
  {
   "cell_type": "code",
   "execution_count": null,
   "metadata": {},
   "outputs": [],
   "source": []
  },
  {
   "cell_type": "code",
   "execution_count": 27,
   "metadata": {},
   "outputs": [
    {
     "name": "stdout",
     "output_type": "stream",
     "text": [
      "['1', '2', '3', '4', '5']\n"
     ]
    }
   ],
   "source": [
    "n=a.split()\n",
    "print(n)"
   ]
  },
  {
   "cell_type": "code",
   "execution_count": 48,
   "metadata": {},
   "outputs": [],
   "source": [
    "numList=[0]"
   ]
  },
  {
   "cell_type": "code",
   "execution_count": 50,
   "metadata": {},
   "outputs": [
    {
     "name": "stdout",
     "output_type": "stream",
     "text": [
      "Enter few numbers1 2 3\n",
      "[1, 2, 3]\n"
     ]
    }
   ],
   "source": [
    "def strToList(s):\n",
    "    x=s.split()\n",
    "    numList=[]\n",
    "    for i in x:\n",
    "        numList.append(int(i))\n",
    "    print(numList)\n",
    "    return \n",
    "s=input('Enter few numbers')\n",
    "strToList(s)\n"
   ]
  },
  {
   "cell_type": "code",
   "execution_count": null,
   "metadata": {},
   "outputs": [],
   "source": []
  }
 ],
 "metadata": {
  "kernelspec": {
   "display_name": "Python 3",
   "language": "python",
   "name": "python3"
  }
 },
 "nbformat": 4,
 "nbformat_minor": 2
}
