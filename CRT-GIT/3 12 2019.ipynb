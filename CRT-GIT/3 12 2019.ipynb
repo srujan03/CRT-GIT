{
 "cells": [
  {
   "cell_type": "markdown",
   "metadata": {},
   "source": [
    "# Welcome, this is Python Programming\n",
    " #### - Data Types \n",
    " #### - Classes : int , float, str"
   ]
  },
  {
   "cell_type": "code",
   "execution_count": 1,
   "metadata": {},
   "outputs": [
    {
     "name": "stdout",
     "output_type": "stream",
     "text": [
      "10000000000000\n",
      "<class 'int'>\n"
     ]
    }
   ],
   "source": [
    "x = 10000000000000\n",
    "print(x)\n",
    "print(type(x))"
   ]
  },
  {
   "cell_type": "code",
   "execution_count": 2,
   "metadata": {},
   "outputs": [
    {
     "name": "stdout",
     "output_type": "stream",
     "text": [
      "1000000.0\n",
      "<class 'float'>\n"
     ]
    }
   ],
   "source": [
    "x = 1000000.0000000\n",
    "print(x)\n",
    "print(type(x))"
   ]
  },
  {
   "cell_type": "code",
   "execution_count": 4,
   "metadata": {},
   "outputs": [
    {
     "name": "stdout",
     "output_type": "stream",
     "text": [
      "Funny\n",
      "<class 'str'>\n"
     ]
    }
   ],
   "source": [
    "x = \"Funny\"\n",
    "print(x)\n",
    "print(type(x))"
   ]
  },
  {
   "cell_type": "markdown",
   "metadata": {},
   "source": [
    "# Data Conversions\n",
    "- int()\n",
    "  -  int() converts any data type into int class\n",
    "- float()\n",
    "  - float() converts any data into float class\n",
    "- str()\n",
    "  - str() converts any data types into str class\n",
    "  "
   ]
  },
  {
   "cell_type": "code",
   "execution_count": 17,
   "metadata": {},
   "outputs": [
    {
     "name": "stdout",
     "output_type": "stream",
     "text": [
      "69.96  <class 'str'>\n",
      "69.96  <class 'float'>\n",
      "69  <class 'int'>\n"
     ]
    }
   ],
   "source": [
    "x = '69.96'\n",
    "print(x,end = '  ')\n",
    "print(type(x))\n",
    "y = float(x)\n",
    "print(y,end = '  ')\n",
    "print(type(y))\n",
    "z = int(y)\n",
    "print(z,end = '  ')\n",
    "print(type(z))"
   ]
  },
  {
   "cell_type": "markdown",
   "metadata": {},
   "source": [
    "# Input Methods\n",
    " - input() take input in 'str' form \n",
    "   - this str inoput can be modified into any data forms"
   ]
  },
  {
   "cell_type": "code",
   "execution_count": 31,
   "metadata": {},
   "outputs": [
    {
     "name": "stdout",
     "output_type": "stream",
     "text": [
      "Put somethinglkjfg\n",
      "lkjfg\n",
      "<class 'str'>\n"
     ]
    }
   ],
   "source": [
    "s = input('Put something')\n",
    "print(s)\n",
    "print(type(s))"
   ]
  },
  {
   "cell_type": "code",
   "execution_count": null,
   "metadata": {},
   "outputs": [],
   "source": [
    "s = int(input('Put something'))\n",
    "print(s)\n",
    "print(type(s))"
   ]
  },
  {
   "cell_type": "code",
   "execution_count": 30,
   "metadata": {},
   "outputs": [
    {
     "name": "stdout",
     "output_type": "stream",
     "text": [
      "Put something1\n",
      "1.0\n",
      "<class 'float'>\n"
     ]
    }
   ],
   "source": [
    "s = float(input('Put something'))\n",
    "print(s)\n",
    "print(type(s))"
   ]
  },
  {
   "cell_type": "markdown",
   "metadata": {},
   "source": [
    "# Control Flow Statements\n",
    "- Conditional\n",
    "  - if - else\n",
    "- Looping\n",
    "  - for \n",
    "  - while"
   ]
  },
  {
   "cell_type": "code",
   "execution_count": 34,
   "metadata": {},
   "outputs": [
    {
     "name": "stdout",
     "output_type": "stream",
     "text": [
      "Enter a Number  12\n",
      "Even Number\n"
     ]
    }
   ],
   "source": [
    "x=int(input('Enter a Number  '))\n",
    "if x%2 == 0:\n",
    "    print(\"Even Number\")\n",
    "else :\n",
    "    print('Odd Number')\n",
    "\n",
    "\n"
   ]
  },
  {
   "cell_type": "code",
   "execution_count": 2,
   "metadata": {},
   "outputs": [
    {
     "name": "stdout",
     "output_type": "stream",
     "text": [
      "Enter Your Age 65\n",
      "Eligible\n"
     ]
    }
   ],
   "source": [
    "age = int(input('Enter Your Age '))\n",
    "if (age<=85) & (age >=18):\n",
    "    print('Eligible')\n",
    "else :\n",
    "    print('Not Eligible')\n"
   ]
  },
  {
   "cell_type": "code",
   "execution_count": 2,
   "metadata": {},
   "outputs": [
    {
     "name": "stdout",
     "output_type": "stream",
     "text": [
      "13\n",
      "7\n",
      "30\n",
      "1000\n",
      "3.3333333333333335\n",
      "3\n",
      "1\n",
      "True\n",
      "False\n"
     ]
    }
   ],
   "source": [
    "a = 10\n",
    "s=3\n",
    "print(a+s)   #Addition\n",
    "print(a-s)   #Subtraction\n",
    "print(a*s)   #Multiplication\n",
    "print(a**s)  #Raised to the Power of\n",
    "print(a/s)   #division (op is FLOAT)\n",
    "print(a//s)  #division (op is INT)\n",
    "print(a%s)   #division (OP is reminder)\n",
    "print(a%2==0)\n",
    "print(s%2==0)"
   ]
  },
  {
   "cell_type": "code",
   "execution_count": 3,
   "metadata": {},
   "outputs": [
    {
     "name": "stdout",
     "output_type": "stream",
     "text": [
      "Entr a Number  5\n",
      "Enter another  6\n",
      "25\n"
     ]
    }
   ],
   "source": [
    "\n",
    "a=int(input('Entr a Number  '))\n",
    "s=int(input('Enter another  '))\n",
    "if a>s:\n",
    "    print(s**2)\n",
    "else:\n",
    "    print(a**2)"
   ]
  },
  {
   "cell_type": "code",
   "execution_count": 6,
   "metadata": {},
   "outputs": [
    {
     "name": "stdout",
     "output_type": "stream",
     "text": [
      "Enter a Number0\n",
      "Zero\n"
     ]
    }
   ],
   "source": [
    "a=int(input('Enter a Number'))\n",
    "if a==0:\n",
    "    print('Zero')\n",
    "elif a<0:\n",
    "        print('Negative')\n",
    "elif a>0:\n",
    "        print('Positive')"
   ]
  },
  {
   "cell_type": "code",
   "execution_count": 10,
   "metadata": {},
   "outputs": [
    {
     "name": "stdout",
     "output_type": "stream",
     "text": [
      "1 2 3 4 5 6 7 8 9 10 "
     ]
    }
   ],
   "source": [
    "a=1\n",
    "while a<=10:\n",
    "    print(a,end = ' ')\n",
    "    a+=1\n"
   ]
  },
  {
   "cell_type": "code",
   "execution_count": 5,
   "metadata": {},
   "outputs": [
    {
     "name": "stdout",
     "output_type": "stream",
     "text": [
      "Enter a number 5\n",
      "15\n"
     ]
    }
   ],
   "source": [
    "a=int(input('Enter a number '))\n",
    "s=1\n",
    "su = 0\n",
    "while s<=a:\n",
    "    su =su + s\n",
    "    s+=1\n",
    "print(su)    "
   ]
  },
  {
   "cell_type": "code",
   "execution_count": 7,
   "metadata": {},
   "outputs": [
    {
     "name": "stdout",
     "output_type": "stream",
     "text": [
      "Enter a number10\n",
      "2\n",
      "4\n",
      "6\n",
      "8\n",
      "10\n"
     ]
    }
   ],
   "source": [
    "a=int(input('Enter a number'))\n",
    "i=1\n",
    "while i<=a:\n",
    "    if i%2==0:\n",
    "        print(i)\n",
    "    i+=1    "
   ]
  },
  {
   "cell_type": "code",
   "execution_count": 9,
   "metadata": {},
   "outputs": [
    {
     "name": "stdout",
     "output_type": "stream",
     "text": [
      "Enter a Number12\n",
      "1, 2, 3, 4, 6, 12, "
     ]
    }
   ],
   "source": [
    "n=int(input('Enter a Number'))\n",
    "f=1\n",
    "while f<=n:\n",
    "    if n%f==0:\n",
    "        print(f, end = ', ')\n",
    "    f+=1"
   ]
  },
  {
   "cell_type": "code",
   "execution_count": null,
   "metadata": {},
   "outputs": [],
   "source": []
  },
  {
   "cell_type": "code",
   "execution_count": null,
   "metadata": {},
   "outputs": [],
   "source": []
  },
  {
   "cell_type": "code",
   "execution_count": null,
   "metadata": {},
   "outputs": [],
   "source": []
  },
  {
   "cell_type": "code",
   "execution_count": null,
   "metadata": {},
   "outputs": [],
   "source": []
  },
  {
   "cell_type": "code",
   "execution_count": null,
   "metadata": {},
   "outputs": [],
   "source": []
  },
  {
   "cell_type": "code",
   "execution_count": null,
   "metadata": {},
   "outputs": [],
   "source": []
  }
 ],
 "metadata": {
  "kernelspec": {
   "display_name": "Python 3",
   "language": "python",
   "name": "python3"
  },
  "language_info": {
   "codemirror_mode": {
    "name": "ipython",
    "version": 3
   },
   "file_extension": ".py",
   "mimetype": "text/x-python",
   "name": "python",
   "nbconvert_exporter": "python",
   "pygments_lexer": "ipython3",
   "version": "3.7.3"
  }
 },
 "nbformat": 4,
 "nbformat_minor": 2
}
