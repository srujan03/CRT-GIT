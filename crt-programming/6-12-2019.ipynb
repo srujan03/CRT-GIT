{
 "cells": [
  {
   "cell_type": "markdown",
   "metadata": {},
   "source": [
    "# Programming with C"
   ]
  },
  {
   "cell_type": "markdown",
   "metadata": {},
   "source": [
    "- 1.Read two numbers as input and print the output as square of the second number if furst number is greater than it and vice-versa "
   ]
  },
  {
   "cell_type": "code",
   "execution_count": null,
   "metadata": {},
   "outputs": [],
   "source": [
    "#include<stdio.h>\n",
    "int main(){\n",
    "\tint x,y;\n",
    "\tscanf(\"%d %d\",&x,&y);\n",
    "\tif(x>y){\n",
    "\t\ty=y*y;\n",
    "\t\tprintf(\"\\n %d\",y);\n",
    "\t}\n",
    "\telse{\n",
    "\t\tx=x*x;\n",
    "\t\tprintf(\"\\n %d\",y);\n",
    "\t}\n",
    "\treturn 0;\n",
    "}"
   ]
  },
  {
   "cell_type": "markdown",
   "metadata": {},
   "source": [
    "- 2.Read the age of a person as input and print the output as ELIGIBLE for voting or not the Age is between 18 and 85 is ELIGIBLE "
   ]
  },
  {
   "cell_type": "code",
   "execution_count": null,
   "metadata": {},
   "outputs": [],
   "source": [
    "#include<stdio.h>\n",
    "int main(){\n",
    "\t\n",
    "\tint age;\n",
    "\tscanf(\"\\n %d\",&age);\n",
    "\tif(age>=18 && age<=85){\n",
    "\t\t\n",
    "\t\tprintf(\"\\n Eligible for Voting\");\n",
    "\t\t}\n",
    "\telse{\n",
    "\t\tprintf(\"\\n Not Eligible for Voting\");\n",
    "\t}\t\n",
    "\t\n",
    "\t\n",
    "\treturn 0;\n",
    "}"
   ]
  },
  {
   "cell_type": "markdown",
   "metadata": {},
   "source": [
    "- 3.Read the character as input and check whether it is upper case , lower case or a digit.\n",
    "\n",
    "  - Test case :\n",
    "  - a - lower case character\n",
    "  - A - UPPER CASE CHARACTER\n",
    "  - 1 - Digit"
   ]
  },
  {
   "cell_type": "code",
   "execution_count": null,
   "metadata": {},
   "outputs": [],
   "source": [
    "#include<stdio.h>\n",
    "int main(){\n",
    "\tchar x;\n",
    "\tscanf(\"%c\",&x);\n",
    "\tif(x>=65 && x<=90){\n",
    "\t\tprintf(\"\\n Upper case Character\");\n",
    "\t}\n",
    "\telse if(x>=97 && x<=122){\n",
    "\t\tprintf(\"\\n Lower Case Character\");\n",
    "\t}\n",
    "\telse{\n",
    "\t\tprintf(\"\\n Digit character\");\n",
    "\t}\n",
    "\t\n",
    "\treturn 0;\n",
    "\t\n",
    "}"
   ]
  },
  {
   "cell_type": "markdown",
   "metadata": {},
   "source": [
    "- 4.Read the input as character and print the output as whether it is a VOWEL or A CONSONANT\n",
    "  - TEST CASES\n",
    "  - a - VOWEL\n",
    "  - s - CONSONANT"
   ]
  },
  {
   "cell_type": "code",
   "execution_count": null,
   "metadata": {},
   "outputs": [],
   "source": [
    "#include<stdio.h>\n",
    "int main(){\n",
    "\tchar x ;\n",
    "\tscanf( \"     %c\",&x);\n",
    "\tif((x>=65 && x<=90) || (x>=97 && x<=122)){\n",
    "\t\tif(x=='a' || x=='e' || x=='i' || x=='o' || x=='u' || x=='A' || x=='E' || x=='I' || x=='O' || x=='U'){\n",
    "\t\t\tprintf(\"\\n Vowel\");\n",
    "\t\t}\n",
    "\t\telse{\n",
    "\t\t\tprintf(\"\\n Consonant\");\n",
    "\t\t}\n",
    "}\n",
    "\telse {\n",
    "    \tprintf(\"Enter a valid Alphabet\");\n",
    "\t}\n",
    "\treturn 0;\n",
    "\t\n",
    "}"
   ]
  },
  {
   "cell_type": "markdown",
   "metadata": {},
   "source": [
    "- 5.Read the number as input and check whether it is perfectly divisible by 3 and 5 or not.\n",
    "  - TEST CASE\n",
    "  - 15 - YES\n",
    "  - 12 - NO"
   ]
  },
  {
   "cell_type": "code",
   "execution_count": null,
   "metadata": {},
   "outputs": [],
   "source": [
    "#include<stdio.h>\n",
    "int main(){\n",
    "\tint x;\n",
    "\tscanf(\"%d\",&x);\n",
    "\tif(x%3==0 && x%5==0){\n",
    "\t\tprintf(\"YES\");\n",
    "\t}\n",
    "\telse{\n",
    "\t\tprintf(\"NO\");\n",
    "\t}\n",
    "\treturn 0;\n",
    "}"
   ]
  },
  {
   "cell_type": "markdown",
   "metadata": {},
   "source": [
    "- 6.Read number as a day of the week number adn Print the output as Day Name\n",
    "  - 1 - Sunday\n",
    "  - 3 - Tuesday"
   ]
  },
  {
   "cell_type": "code",
   "execution_count": null,
   "metadata": {},
   "outputs": [],
   "source": [
    "#include<stdio.h>\n",
    "int main(){\n",
    "\tint x;\n",
    "\tscanf(\"%d\",&x);\n",
    "\tswitch (x){\n",
    "\t\tcase 1: printf(\"\\n Sunday\");\n",
    "\t\t\tbreak;\n",
    "\t\tcase 2: printf(\"\\n Monday\");\n",
    "\t\t\tbreak;\n",
    "\t\tcase 3: printf(\"\\n Tuesday\");\n",
    "\t\t\tbreak;\n",
    "\t\tcase 4: printf(\"\\n wednesday\");\n",
    "\t\t\tbreak;\n",
    "\t\tcase 5: printf(\"\\n Thursday\");\n",
    "\t\t\tbreak;\n",
    "\t\tcase 6: printf(\"\\n Friday\");\n",
    "\t\t\tbreak;\n",
    "\t\tcase 7: printf(\"\\n Saturday\");\n",
    "\t\t\tbreak;\n",
    "\t\tdefault: printf(\"Enter a Valid Number for the Days Of The Week\");\n",
    "\t}\n",
    "    return 0;\n",
    "}"
   ]
  },
  {
   "cell_type": "markdown",
   "metadata": {},
   "source": [
    "- 7.Read three angles as input and check if these angles can make a triangle or not\n",
    "  - 90 45 45 - Yes\n",
    "  - 0 0 180 -NO"
   ]
  },
  {
   "cell_type": "code",
   "execution_count": null,
   "metadata": {},
   "outputs": [],
   "source": [
    "#include<stdio.h>\n",
    "int main(){\n",
    "\tint a,b,c;\n",
    "    scanf(\"%d%d%d\",&a,&b,&c);\n",
    "\tif (a!=0 && b!=0 && C!=0){\n",
    "\t\tif(a+b+c==180){\n",
    "\t\t\tprintf(\"YES\");\n",
    "\t\t}\n",
    "\t}\n",
    "\telse{\n",
    "\t\tprintf(\"NO\")\n",
    "\t} \t\t\n",
    "\treturn 0;\n",
    "}"
   ]
  },
  {
   "cell_type": "markdown",
   "metadata": {},
   "source": [
    "## Looping Constraints\n",
    "- while\n",
    "- do-while\n",
    "- for"
   ]
  },
  {
   "cell_type": "markdown",
   "metadata": {},
   "source": [
    "- 8.Read the number as input and print the natural numbers from 1 to N\n",
    "    - TEST CASE\n",
    "    - 10 -  1 2 3 4 5 6 7 8 9 10"
   ]
  },
  {
   "cell_type": "code",
   "execution_count": null,
   "metadata": {},
   "outputs": [],
   "source": [
    "#include<stdio.h>\n",
    "int main(){\n",
    "\tint N,n=1;\n",
    "\tscanf(\"%d\",&N);\n",
    "\twhile(n<=N){\n",
    "\t\tprintf(\"%d  \",n);\n",
    "\t\tn++;\n",
    "\t}\n",
    "\treturn 0;\n",
    "}"
   ]
  },
  {
   "cell_type": "markdown",
   "metadata": {},
   "source": [
    "- 9.Read thr number as input and print the sum of EVEN number between 1 and N\n",
    "  - TEST CASE\n",
    "  - 10 - 30  //2+4+6+8+10"
   ]
  },
  {
   "cell_type": "code",
   "execution_count": null,
   "metadata": {},
   "outputs": [],
   "source": [
    "#include<stdio.h>\n",
    "int main(){\n",
    "\tint N,i=1,sum=0;\n",
    "\tscanf(\"%d\",&N);\n",
    "\twhile(i<=N){\n",
    "\t\tif(i%2==0){\n",
    "\t\t\tsum+=i;\n",
    "\t\t}\n",
    "\ti++;\n",
    "\t}\n",
    "\tprintf(\"\\n%d\",sum);\n",
    "\treturn 0;\n",
    "}"
   ]
  },
  {
   "cell_type": "markdown",
   "metadata": {},
   "source": [
    "- 10.Read two numbers as input and print the output as the numbers which are perfectly divisible by 3 and 5\n",
    "  - TEST CASE\n",
    "  - 1 15  - 15\n",
    "  - 15 45 - 15 30 45"
   ]
  },
  {
   "cell_type": "code",
   "execution_count": null,
   "metadata": {},
   "outputs": [],
   "source": [
    "#include<stdio.h>\n",
    "int main(){\n",
    "\tint a,b,i;\n",
    "\tscanf(\"%d%d\",&a,&b);\n",
    "\ti=a;\n",
    "\twhile(i<=b)\n",
    "        {\n",
    "        if(i%3==0 && i%5==0){\n",
    "        printf(\"%d \",i);\n",
    "        }\n",
    "\ti++;\n",
    "\t}\n",
    "\treturn 0;\n",
    "}"
   ]
  },
  {
   "cell_type": "markdown",
   "metadata": {},
   "source": [
    "- 11.Read the number as input and print the output as digits of the number\n",
    "  - TEST CASE\n",
    "  - 145 - 5 4 1\n",
    "  - 1889 - 9 8 8 1"
   ]
  },
  {
   "cell_type": "code",
   "execution_count": null,
   "metadata": {},
   "outputs": [],
   "source": [
    "#include<stdio.h>\n",
    "int main(){\n",
    "\tint n,r;\n",
    "\tscanf(\"%d\",&n);\n",
    "\twhile(n>0){\n",
    "\t\tr=n%10;\n",
    "\t\tn=n/10;\n",
    "\t\tprintf(\"%d \",r);\n",
    "\t}\t\n",
    "\treturn 0;\n",
    "}"
   ]
  },
  {
   "cell_type": "markdown",
   "metadata": {},
   "source": [
    "- 12. Read the number as input and print the output as only the sum of even digits of the number\n",
    "  - TEST CASE \n",
    "  - 1889 - 16\n",
    "  - 145 - 4\n",
    "  - 1591 - 0"
   ]
  },
  {
   "cell_type": "code",
   "execution_count": null,
   "metadata": {},
   "outputs": [],
   "source": [
    "#include<stdio.h>\n",
    "\tint main(){\n",
    "\tint n,r,sum=0;\n",
    "\tscanf(\"%d\",&n);\n",
    "\twhile(n>0){\n",
    "  \t\tr=n%10;\n",
    "  \t\tn/=10;\n",
    "  \t\tif(r%2==0){\n",
    "  \t\t\tsum+=r;\n",
    "\t\t  }\n",
    "\t  }\n",
    "\t  printf(\"\\n%d\",sum);\n",
    "  \treturn 0;\n",
    "}"
   ]
  },
  {
   "cell_type": "markdown",
   "metadata": {},
   "source": [
    "- 13. Read the number as input and print the output in following order\n",
    "  - TEST CASE\n",
    "  - 1889 - Nine Eight Eight One\n",
    "  - 1520 - Zero Two Five One"
   ]
  },
  {
   "cell_type": "code",
   "execution_count": null,
   "metadata": {},
   "outputs": [],
   "source": [
    "#include<stdio.h>\n",
    "int main(){\n",
    "\tint n,r;\n",
    "\tscanf(\"%d\",&n);\n",
    "\twhile(n>0){\n",
    "\t\tr=n%10;\n",
    "\t\tn/=10;\n",
    "\t\tswitch(r){\n",
    "\t\t\tcase 0: printf(\"Zero \");\n",
    "\t\t\tbreak;\t\t\t\n",
    "\t\t\tcase 1: printf(\"One \");\n",
    "\t\t\tbreak;\n",
    "\t\t\tcase 2: printf(\"Two \");\n",
    "\t\t\tbreak;\n",
    "\t\t\tcase 3: printf(\"Three \");\n",
    "\t\t\tbreak;\n",
    "\t\t\tcase 4: printf(\"Four \");\n",
    "\t\t\tbreak;\n",
    "\t\t\tcase 5: printf(\"Five \");\n",
    "\t\t\tbreak;\n",
    "\t\t\tcase 6: printf(\"Six \");\n",
    "\t\t\tbreak;\n",
    "\t\t\tcase 7: printf(\"Seven \");\n",
    "\t\t\tbreak;\n",
    "\t\t\tcase 8: printf(\"Eight \");\n",
    "\t\t\tbreak;\n",
    "\t\t\tcase 9: printf(\"Nine \");\n",
    "\t\t\tbreak;\n",
    "\t\t}\n",
    "\t}\n",
    "\treturn 0;\n",
    "}"
   ]
  },
  {
   "cell_type": "markdown",
   "metadata": {},
   "source": [
    "- 14. Read the input as number and print the output in the following manner\n",
    "  - TEST CASE\n",
    "  - 98254 - <2,9>\n",
    "  - 57415 - <1,7>"
   ]
  },
  {
   "cell_type": "code",
   "execution_count": null,
   "metadata": {},
   "outputs": [],
   "source": [
    "#include<stdio.h>\n",
    "int main(){\n",
    "\tint n,r,small=9,large=0;\n",
    "\tscanf(\"%d\",&n);\n",
    "\twhile(n>0){\n",
    "\t\tr=n%10;\n",
    "\t\tn/=10;\n",
    "\t\tif(small>r){\n",
    "\t\t\tsmall=r;\n",
    "\t\t}\n",
    "\t\tif(large<r){\n",
    "\t\t\tlarge=r;\n",
    "\t\t}\n",
    "\t}\n",
    "\tprintf(\"<%d,%d>\",small,large);\n",
    "\t\t\n",
    "\treturn 0;\n",
    "}"
   ]
  },
  {
   "cell_type": "markdown",
   "metadata": {},
   "source": [
    "- 15. Read the input as a number and print the output in the following manner\n",
    "  - TEST CASE\n",
    "  - 1889 - 5\n",
    "  - 4579 - 3"
   ]
  },
  {
   "cell_type": "code",
   "execution_count": null,
   "metadata": {},
   "outputs": [],
   "source": [
    "#include<stdio.h>\n",
    "int main(){\n",
    "\tint n,r,sum=0;\n",
    "\tscanf(\"%d\",&n);\n",
    "\twhile(n>0){\n",
    "\t\tr=n%10;\n",
    "\t\tn/=10;\n",
    "\t\tif(r==4 || r==8){\n",
    "\t\t\tsum+=2;\n",
    "\t\t}\n",
    "\t\telse if(r==6 || r==9 || r==0){\n",
    "\t\t\tsum+=1;\n",
    "\t\t}\n",
    "\t}\n",
    "\tprintf(\"%d\",sum);\n",
    "}"
   ]
  },
  {
   "cell_type": "markdown",
   "metadata": {},
   "source": [
    "- 16.Read the number as input and print whether the number is Palindrome or Not\n",
    "  - TEST CASE \n",
    "  - 141 - Palindrome\n",
    "  - 145 - Not a Palndrome\n",
    "  - 1991 - Palindrome"
   ]
  },
  {
   "cell_type": "code",
   "execution_count": null,
   "metadata": {},
   "outputs": [],
   "source": [
    "#include<stdio.h>\n",
    "int main(){\n",
    "\tint original,r,reverse,n;\n",
    "\tscanf(\"%d\",&original);\n",
    "\tn=original;\n",
    "\twhile(n>0){\n",
    "\t\tr=n%10;\n",
    "\t\tn/=10;\n",
    "\t\treverse=reverse*10+r;\n",
    "\t}\n",
    "\tif(reverse==original){\n",
    "\t\tprintf(\"Palindrome\");\n",
    "\t}\n",
    "\telse{\n",
    "\t\tprintf(\"Not a Palindrome\");\n",
    "\t}\n",
    "}"
   ]
  }
 ],
 "metadata": {
  "kernelspec": {
   "display_name": "Python 3",
   "language": "python",
   "name": "python3"
  },
  "language_info": {
   "codemirror_mode": {
    "name": "ipython",
    "version": 3
   },
   "file_extension": ".py",
   "mimetype": "text/x-python",
   "name": "python",
   "nbconvert_exporter": "python",
   "pygments_lexer": "ipython3",
   "version": "3.7.1"
  }
 },
 "nbformat": 4,
 "nbformat_minor": 2
}
